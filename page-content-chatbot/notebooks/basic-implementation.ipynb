{
 "cells": [
  {
   "cell_type": "code",
   "execution_count": 55,
   "id": "e3142d05-24f9-4f40-b92b-17fd7f81a075",
   "metadata": {},
   "outputs": [],
   "source": [
    "from langchain.chains.combine_documents import create_stuff_documents_chain\n",
    "from langchain_community.llms import Ollama\n",
    "from langchain_community.document_loaders import WebBaseLoader\n",
    "from langchain_community.vectorstores import FAISS\n",
    "from langchain.text_splitter import RecursiveCharacterTextSplitter\n",
    "from langchain_community.embeddings import OllamaEmbeddings\n",
    "from langchain.chains.combine_documents import create_stuff_documents_chain\n",
    "from langchain_core.prompts import ChatPromptTemplate\n",
    "from langchain.chains import create_retrieval_chain\n",
    "from langchain_experimental.llms.ollama_functions import OllamaFunctions"
   ]
  },
  {
   "cell_type": "code",
   "execution_count": 56,
   "id": "790ac033-0109-4c9b-b92a-619f979d2aa1",
   "metadata": {},
   "outputs": [],
   "source": [
    "# Configuração p/ modelo local\n",
    "model_name = \"mario:latest\"\n",
    "host = \"http://localhost:8081\""
   ]
  },
  {
   "cell_type": "code",
   "execution_count": 57,
   "id": "e1cbed41-1af5-4297-bce3-8df323156249",
   "metadata": {},
   "outputs": [],
   "source": [
    "# Inicialização do modelo com set de temperatura\n",
    "llm = Ollama(model=model_name, base_url=host, temperature=0.1)"
   ]
  },
  {
   "cell_type": "code",
   "execution_count": 58,
   "id": "6c4e4641-5949-489e-9be1-7c854f0a09f8",
   "metadata": {},
   "outputs": [],
   "source": [
    "# Extração de conteúdo da página web\n",
    "url = \"https://g1.globo.com/sp/sorocaba-jundiai/noticia/2024/02/06/prefeitura-de-jundiai-identifica-mais-um-morcego-contaminado-com-raiva-cidade-soma-cinco-casos-no-ano.ghtml\"\n",
    "loader = WebBaseLoader(url)\n",
    "docs = loader.load()"
   ]
  },
  {
   "cell_type": "code",
   "execution_count": 59,
   "id": "7feae606-6b95-4a72-ace0-f0feab9c48c5",
   "metadata": {},
   "outputs": [],
   "source": [
    "embeddings = OllamaEmbeddings(model=model_name, base_url=host)"
   ]
  },
  {
   "cell_type": "code",
   "execution_count": 60,
   "id": "50030343-7dd3-4e18-a63b-b90ec4e7d80f",
   "metadata": {},
   "outputs": [],
   "source": [
    "text_splitter = RecursiveCharacterTextSplitter()\n",
    "documents = text_splitter.split_documents(docs)\n",
    "vector = FAISS.from_documents(documents, embeddings)"
   ]
  },
  {
   "cell_type": "code",
   "execution_count": 65,
   "id": "ef175f9a-55d7-4fb9-b5a6-f01ddbf1e523",
   "metadata": {},
   "outputs": [],
   "source": [
    "# Criação do modelo de prompt.\n",
    "prompt_template = \"\"\"Answer the following question based only on the context:\n",
    "{context}\n",
    "\n",
    "Question: {input}\n",
    "\"\"\"\n",
    "\n",
    "prompt = ChatPromptTemplate.from_template(prompt_template)\n",
    "\n",
    "document_chain = create_stuff_documents_chain(llm, prompt)"
   ]
  },
  {
   "cell_type": "code",
   "execution_count": 66,
   "id": "6611ad98-c40c-4e00-868e-1f4d0b9f8a28",
   "metadata": {},
   "outputs": [],
   "source": [
    "# Inicialização do retriver (escolhe a melhor fonte de dados p/ gerar a resposta)\n",
    "retriever = vector.as_retriever()\n",
    "retrieval_chain = create_retrieval_chain(retriever, document_chain)"
   ]
  },
  {
   "cell_type": "code",
   "execution_count": 67,
   "id": "ec9300a4-7698-4737-8524-da418a508885",
   "metadata": {},
   "outputs": [
    {
     "name": "stdout",
     "output_type": "stream",
     "text": [
      "The article is about a bat infected with rabies being found in Jundiaí, Brazil. The city has had five cases of rabies this year, and the bat was found on a sidewalk in the Vila Nova neighborhood. The city's health department recommends vaccinating dogs and cats against the disease and advises residents on how to handle contact with infected animals.\n"
     ]
    }
   ],
   "source": [
    "# Interação com o documento\n",
    "response = retrieval_chain.invoke({\"input\": \"What is the article about?\"})\n",
    "\n",
    "print(response[\"answer\"].replace('<|endoftext|>',''))"
   ]
  },
  {
   "cell_type": "code",
   "execution_count": 72,
   "id": "18c7bad7-83b9-4fb8-b1a8-d44d804ac33e",
   "metadata": {},
   "outputs": [
    {
     "name": "stdout",
     "output_type": "stream",
     "text": [
      "The bat was found in a sidewalk in the city of Jundiaí, in the state of São Paulo.\n"
     ]
    }
   ],
   "source": [
    "# Interação com o documento\n",
    "response = retrieval_chain.invoke({\"input\": \"How the bat was found?\"})\n",
    "\n",
    "print(response[\"answer\"].replace('<|endoftext|>',''))"
   ]
  },
  {
   "cell_type": "code",
   "execution_count": 73,
   "id": "c7f5bcf7-d0e4-4483-92a9-9f044ec8ad9e",
   "metadata": {},
   "outputs": [
    {
     "name": "stdout",
     "output_type": "stream",
     "text": [
      "Yes, there are vaccines available for the prevention of rabies. It is recommended that people who have been bitten or scratched by an animal seek medical attention and get vaccinated as soon as possible.\n"
     ]
    }
   ],
   "source": [
    "# Interação com o documento\n",
    "response = retrieval_chain.invoke({\"input\": \"There is some medicine to take in case of infection?\"})\n",
    "\n",
    "print(response[\"answer\"].replace('<|endoftext|>',''))"
   ]
  },
  {
   "cell_type": "code",
   "execution_count": 75,
   "id": "f5a58b09-a2d1-42cf-aeaa-3c66efc26bed",
   "metadata": {},
   "outputs": [
    {
     "name": "stdout",
     "output_type": "stream",
     "text": [
      "The recommendations are to vaccinate dogs and cats against rabies, avoid contact with wild animals such as bats, and seek medical attention if bitten or scratched by a bat.\n"
     ]
    }
   ],
   "source": [
    "# Interação com o documento\n",
    "response = retrieval_chain.invoke({\"input\": \"Which are the reccomendations?\"})\n",
    "\n",
    "print(response[\"answer\"].replace('<|endoftext|>',''))"
   ]
  }
 ],
 "metadata": {
  "kernelspec": {
   "display_name": "Python 3 (ipykernel)",
   "language": "python",
   "name": "python3"
  },
  "language_info": {
   "codemirror_mode": {
    "name": "ipython",
    "version": 3
   },
   "file_extension": ".py",
   "mimetype": "text/x-python",
   "name": "python",
   "nbconvert_exporter": "python",
   "pygments_lexer": "ipython3",
   "version": "3.11.5"
  }
 },
 "nbformat": 4,
 "nbformat_minor": 5
}

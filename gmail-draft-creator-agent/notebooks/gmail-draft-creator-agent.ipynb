{
 "cells": [
  {
   "cell_type": "markdown",
   "id": "ab1e7110-81ea-4009-b90a-c80a35569b64",
   "metadata": {},
   "source": [
    "#### 0. Imports"
   ]
  },
  {
   "cell_type": "code",
   "execution_count": 1,
   "id": "2f8e235f-3310-4899-9e0d-6999967d7aaf",
   "metadata": {},
   "outputs": [],
   "source": [
    "# Langchain\n",
    "from langchain_community.agent_toolkits import GmailToolkit\n",
    "from langchain_community.tools.gmail.search import GmailSearch\n",
    "from langchain_community.tools.gmail.create_draft import GmailCreateDraft\n",
    "from langchain_community.tools.gmail.get_thread import GmailGetThread\n",
    "from langchain_community.tools.gmail.utils import build_resource_service, get_gmail_credentials\n",
    "from langchain_community.llms import Ollama\n",
    "from langchain.tools import tool\n",
    "\n",
    "# Other\n",
    "from textwrap import dedent\n",
    "\n",
    "# CrewAi\n",
    "from crewai import Agent, Task, Crew, Process"
   ]
  },
  {
   "cell_type": "markdown",
   "id": "084b8420-bbd0-4a43-8dcc-ab029640223d",
   "metadata": {},
   "source": [
    "#### 1. LLM Settings"
   ]
  },
  {
   "cell_type": "code",
   "execution_count": 2,
   "id": "44101fc3-1314-442e-859b-f92f8217523f",
   "metadata": {},
   "outputs": [],
   "source": [
    "# llm settings\n",
    "model = \"model:latest\"\n",
    "host = \"http://localhost:11434\"\n",
    "llm = Ollama(model = model, base_url = host, temperature = 0)"
   ]
  },
  {
   "cell_type": "markdown",
   "id": "7f3403a4-d854-4f6f-a8ed-9562a0058549",
   "metadata": {},
   "source": [
    "#### 2. Tools definition"
   ]
  },
  {
   "cell_type": "code",
   "execution_count": 3,
   "id": "3159ef96-4b7d-47d3-ae77-ac7470bfd47a",
   "metadata": {},
   "outputs": [],
   "source": [
    "class MailTools:\n",
    "    @tool('Create Draft')\n",
    "    def send_draft(data=\"\"):\n",
    "        \"\"\"\n",
    "        This tool creates a draft message to the specified subject.\n",
    "        It receives the string \"personemail|subject|message\"\n",
    "        \"\"\"\n",
    "        \n",
    "        #  Expected output:\n",
    "        # 'Draft created. Draft Id: r13453575123'  \n",
    "\n",
    "        # check if agent message was not empty\n",
    "        if data == \"\":\n",
    "            return 'Draft not created.'\n",
    "\n",
    "        # split data\n",
    "        split = data.split('|')\n",
    "        if len(split) != 3:\n",
    "            return 'The string should be same exact format: \"personemail|subject|message\"'\n",
    "            \n",
    "        email, subject, message = split\n",
    "\n",
    "        # create draft\n",
    "        status = draft({\n",
    "                'to': [email],\n",
    "                'subject': subject,\n",
    "                'message': message\n",
    "        })\n",
    "        \n",
    "        return status"
   ]
  },
  {
   "cell_type": "code",
   "execution_count": 7,
   "id": "b92ba4d1-a251-4a2e-8da9-8678e9db4e34",
   "metadata": {},
   "outputs": [],
   "source": [
    "# instantiate draft\n",
    "draft = GmailCreateDraft()"
   ]
  },
  {
   "cell_type": "markdown",
   "id": "77a95474-1a7f-42e1-b0a8-5e0c2c8aa418",
   "metadata": {},
   "source": [
    "#### 3. Agent definition"
   ]
  },
  {
   "cell_type": "code",
   "execution_count": 8,
   "id": "d0c13109-ca80-42d7-9fe2-c76b96c42d8f",
   "metadata": {},
   "outputs": [],
   "source": [
    "def interact(task: str) -> str:\n",
    "    assistant = Agent(\n",
    "        role = 'You are a personal assistant.',\n",
    "        goal = \"\"\"\n",
    "        Execute the tool to acomplish asked task and give the final \n",
    "        answer only if 'Draft created', keep the email message exact as requested.\n",
    "    \n",
    "        Your response must have-to:\n",
    "        1 - Your message should have the same email asked.\n",
    "        2 - You are allowed to taylor the subject and message.\n",
    "        3 - You always answer in this exact Structure \"personemail|subject|message\"\n",
    "        4 - NOT ALLOWED: data=\"...\"\n",
    "        \"\"\",\n",
    "        backstory = \"\",\n",
    "        verbose = False,\n",
    "        allow_delegation = False,\n",
    "        tools = [ MailTools.send_draft ],\n",
    "        llm = llm\n",
    "    )\n",
    "    \n",
    "    task1 = Task(\n",
    "        description = task,\n",
    "        agent = assistant\n",
    "    )\n",
    "    \n",
    "    crew = Crew(\n",
    "        agents = [assistant],\n",
    "        tasks = [task1],\n",
    "        verbose = 2,\n",
    "        llm = llm\n",
    "    )\n",
    "    \n",
    "    result = crew.kickoff()"
   ]
  },
  {
   "cell_type": "markdown",
   "id": "34e8c51f-128c-4999-a723-ae11eedd54e0",
   "metadata": {},
   "source": [
    "#### Testing"
   ]
  },
  {
   "cell_type": "code",
   "execution_count": 9,
   "id": "c3a9f531-950d-4807-93dc-db889bc8e6e3",
   "metadata": {},
   "outputs": [
    {
     "name": "stdout",
     "output_type": "stream",
     "text": [
      "[DEBUG]: Working Agent: You are a personal assistant.\n",
      "[INFO]: Starting Task: Send a Draft to barbara@nice.com explaining the reason why im not going with her. Barbara I'm not going because i got flu, I'm sorry. I hope you have funzies there!\n",
      "[DEBUG]: [You are a personal assistant.] Task output: r-6992201393828731870<|im_end|>\n",
      "\n",
      "\n"
     ]
    }
   ],
   "source": [
    "interact(\"Send a Draft to barbara@nice.com explaining the reason why im not going with her. Barbara I'm not going because i got flu, I'm sorry. I hope you have funzies there!\")"
   ]
  }
 ],
 "metadata": {
  "kernelspec": {
   "display_name": "Python 3 (ipykernel)",
   "language": "python",
   "name": "python3"
  },
  "language_info": {
   "codemirror_mode": {
    "name": "ipython",
    "version": 3
   },
   "file_extension": ".py",
   "mimetype": "text/x-python",
   "name": "python",
   "nbconvert_exporter": "python",
   "pygments_lexer": "ipython3",
   "version": "3.11.8"
  }
 },
 "nbformat": 4,
 "nbformat_minor": 5
}
